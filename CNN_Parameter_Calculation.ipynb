{
  "cells": [
    {
      "cell_type": "markdown",
      "source": [
        "vaibhavi patil\n",
        "roll.no23\n",
        "```\n",
        "\n"
      ],
      "metadata": {
        "id": "QgmVBWbyj7nI"
      }
    },
    {
      "cell_type": "code",
      "execution_count": null,
      "metadata": {
        "id": "KmKUc2jmOZ58"
      },
      "outputs": [],
      "source": [
        "from keras.models import Sequential\n",
        "from keras.layers import Conv2D"
      ]
    },
    {
      "cell_type": "code",
      "execution_count": null,
      "metadata": {
        "colab": {
          "base_uri": "https://localhost:8080/"
        },
        "id": "zrLXj7sBOj0G",
        "outputId": "77398d35-11e3-405d-cf28-1c8a499ec254"
      },
      "outputs": [
        {
          "name": "stdout",
          "output_type": "stream",
          "text": [
            "Model: \"sequential\"\n",
            "_________________________________________________________________\n",
            " Layer (type)                Output Shape              Param #   \n",
            "=================================================================\n",
            " conv2d (Conv2D)             (None, 28, 28, 32)        2400      \n",
            "                                                                 \n",
            " conv2d_1 (Conv2D)           (None, 28, 28, 17)        4896      \n",
            "                                                                 \n",
            " conv2d_2 (Conv2D)           (None, 28, 28, 13)        1989      \n",
            "                                                                 \n",
            " conv2d_3 (Conv2D)           (None, 28, 28, 7)         819       \n",
            "                                                                 \n",
            "=================================================================\n",
            "Total params: 10,104\n",
            "Trainable params: 10,104\n",
            "Non-trainable params: 0\n",
            "_________________________________________________________________\n"
          ]
        }
      ],
      "source": [
        "model = Sequential()\n",
        "model.add(Conv2D(32, input_shape=(28,28,3),\n",
        "                 kernel_size = (5,5),\n",
        "                 padding='same',\n",
        "                 use_bias=False))\n",
        "model.add(Conv2D(17, (3,3), padding='same', use_bias=False))\n",
        "model.add(Conv2D(13, (3,3), padding='same', use_bias=False))\n",
        "model.add(Conv2D(7, (3,3), padding='same', use_bias=False))\n",
        "\n",
        "model.compile(loss = 'categorical_crossentropy', optimizer='adam')\n",
        "\n",
        "model.summary()"
      ]
    },
    {
      "cell_type": "code",
      "execution_count": null,
      "metadata": {
        "colab": {
          "base_uri": "https://localhost:8080/"
        },
        "id": "K0fyi6HaPdBO",
        "outputId": "f22d5fe0-dfaf-44d9-bd5e-12ca6d8d35b7"
      },
      "outputs": [
        {
          "name": "stdout",
          "output_type": "stream",
          "text": [
            "Model: \"sequential_1\"\n",
            "_________________________________________________________________\n",
            " Layer (type)                Output Shape              Param #   \n",
            "=================================================================\n",
            " conv2d_4 (Conv2D)           (None, 28, 28, 32)        2432      \n",
            "                                                                 \n",
            " conv2d_5 (Conv2D)           (None, 28, 28, 17)        4913      \n",
            "                                                                 \n",
            " conv2d_6 (Conv2D)           (None, 28, 28, 13)        2002      \n",
            "                                                                 \n",
            " conv2d_7 (Conv2D)           (None, 28, 28, 7)         826       \n",
            "                                                                 \n",
            "=================================================================\n",
            "Total params: 10,173\n",
            "Trainable params: 10,173\n",
            "Non-trainable params: 0\n",
            "_________________________________________________________________\n"
          ]
        }
      ],
      "source": [
        "model = Sequential()\n",
        "model.add(Conv2D(32, input_shape=(28,28,3),\n",
        "                 kernel_size = (5,5),\n",
        "                 padding='same',\n",
        "                 use_bias=True))\n",
        "model.add(Conv2D(17, (3,3), padding='same', use_bias=True))\n",
        "model.add(Conv2D(13, (3,3), padding='same', use_bias=True))\n",
        "model.add(Conv2D(7, (3,3), padding='same', use_bias=True))\n",
        "\n",
        "model.compile(loss = 'categorical_crossentropy', optimizer='adam')\n",
        "\n",
        "model.summary()"
      ]
    },
    {
      "cell_type": "code",
      "execution_count": null,
      "metadata": {
        "colab": {
          "base_uri": "https://localhost:8080/"
        },
        "id": "ZhF4UZ99Ptk-",
        "outputId": "397e1558-b0d7-49fb-dcc9-7eacafcde8b4"
      },
      "outputs": [
        {
          "name": "stdout",
          "output_type": "stream",
          "text": [
            "Model: \"sequential_2\"\n",
            "_________________________________________________________________\n",
            " Layer (type)                Output Shape              Param #   \n",
            "=================================================================\n",
            " conv2d_8 (Conv2D)           (None, 24, 24, 32)        2400      \n",
            "                                                                 \n",
            " conv2d_9 (Conv2D)           (None, 22, 22, 17)        4896      \n",
            "                                                                 \n",
            " conv2d_10 (Conv2D)          (None, 20, 20, 13)        1989      \n",
            "                                                                 \n",
            " conv2d_11 (Conv2D)          (None, 18, 18, 7)         819       \n",
            "                                                                 \n",
            "=================================================================\n",
            "Total params: 10,104\n",
            "Trainable params: 10,104\n",
            "Non-trainable params: 0\n",
            "_________________________________________________________________\n"
          ]
        }
      ],
      "source": [
        "model = Sequential()\n",
        "model.add(Conv2D(32, input_shape=(28,28,3),\n",
        "                 kernel_size = (5,5),\n",
        "                 use_bias=False))\n",
        "model.add(Conv2D(17, (3,3), use_bias=False))\n",
        "model.add(Conv2D(13, (3,3), use_bias=False))\n",
        "model.add(Conv2D(7, (3,3), use_bias=False))\n",
        "\n",
        "model.compile(loss = 'categorical_crossentropy', optimizer='adam')\n",
        "\n",
        "model.summary()"
      ]
    },
    {
      "cell_type": "code",
      "execution_count": null,
      "metadata": {
        "colab": {
          "base_uri": "https://localhost:8080/"
        },
        "id": "LTXdMRJ0QHPV",
        "outputId": "d74ea0f4-da71-4c7d-ed7a-f5d0bbe51ac2"
      },
      "outputs": [
        {
          "name": "stdout",
          "output_type": "stream",
          "text": [
            "Model: \"sequential_3\"\n",
            "_________________________________________________________________\n",
            " Layer (type)                Output Shape              Param #   \n",
            "=================================================================\n",
            " conv2d_12 (Conv2D)          (None, 24, 24, 32)        2400      \n",
            "                                                                 \n",
            " conv2d_13 (Conv2D)          (None, 22, 22, 17)        4896      \n",
            "                                                                 \n",
            " conv2d_14 (Conv2D)          (None, 20, 20, 13)        1989      \n",
            "                                                                 \n",
            " conv2d_15 (Conv2D)          (None, 18, 18, 7)         819       \n",
            "                                                                 \n",
            "=================================================================\n",
            "Total params: 10,104\n",
            "Trainable params: 10,104\n",
            "Non-trainable params: 0\n",
            "_________________________________________________________________\n"
          ]
        }
      ],
      "source": [
        "model = Sequential()\n",
        "model.add(Conv2D(32, input_shape=(28,28,3),\n",
        "                 kernel_size = (5,5),\n",
        "                 padding='valid',\n",
        "                 use_bias=False))\n",
        "model.add(Conv2D(17, (3,3), padding='valid', use_bias=False))\n",
        "model.add(Conv2D(13, (3,3), padding='valid', use_bias=False))\n",
        "model.add(Conv2D(7, (3,3), padding='valid', use_bias=False))\n",
        "\n",
        "model.compile(loss = 'categorical_crossentropy', optimizer='adam')\n",
        "\n",
        "model.summary()"
      ]
    },
    {
      "cell_type": "code",
      "execution_count": null,
      "metadata": {
        "colab": {
          "base_uri": "https://localhost:8080/"
        },
        "id": "PlwoDNlrRBBW",
        "outputId": "672260a1-6432-4ddd-d0cb-308a5a350553"
      },
      "outputs": [
        {
          "name": "stdout",
          "output_type": "stream",
          "text": [
            "Model: \"sequential_4\"\n",
            "_________________________________________________________________\n",
            " Layer (type)                Output Shape              Param #   \n",
            "=================================================================\n",
            " conv2d_16 (Conv2D)          (None, 24, 24, 10)        750       \n",
            "                                                                 \n",
            " conv2d_17 (Conv2D)          (None, 10, 10, 20)        5000      \n",
            "                                                                 \n",
            " conv2d_18 (Conv2D)          (None, 3, 3, 40)          20000     \n",
            "                                                                 \n",
            "=================================================================\n",
            "Total params: 25,750\n",
            "Trainable params: 25,750\n",
            "Non-trainable params: 0\n",
            "_________________________________________________________________\n"
          ]
        }
      ],
      "source": [
        "model = Sequential()\n",
        "model.add(Conv2D(10, input_shape=(28,28,3),\n",
        "                 kernel_size = (5,5),\n",
        "                 strides = (1,1),\n",
        "                 padding='valid',\n",
        "                 use_bias=False))\n",
        "model.add(Conv2D(20, (5,5), (2,2), padding='valid', use_bias=False))\n",
        "model.add(Conv2D(40, (5,5), (2,2), padding='valid', use_bias=False))\n",
        "\n",
        "\n",
        "model.compile(loss = 'categorical_crossentropy', optimizer='adam')\n",
        "\n",
        "model.summary()"
      ]
    },
    {
      "cell_type": "code",
      "execution_count": null,
      "metadata": {
        "colab": {
          "base_uri": "https://localhost:8080/"
        },
        "id": "SfZZ_avdRxru",
        "outputId": "1c1ac6d2-49ff-4337-e26a-f5c5e3cac51a"
      },
      "outputs": [
        {
          "name": "stdout",
          "output_type": "stream",
          "text": [
            "Model: \"sequential_5\"\n",
            "_________________________________________________________________\n",
            " Layer (type)                Output Shape              Param #   \n",
            "=================================================================\n",
            " conv2d_19 (Conv2D)          (None, 37, 37, 10)        280       \n",
            "                                                                 \n",
            " conv2d_20 (Conv2D)          (None, 17, 17, 20)        5020      \n",
            "                                                                 \n",
            " conv2d_21 (Conv2D)          (None, 7, 7, 40)          20040     \n",
            "                                                                 \n",
            "=================================================================\n",
            "Total params: 25,340\n",
            "Trainable params: 25,340\n",
            "Non-trainable params: 0\n",
            "_________________________________________________________________\n"
          ]
        }
      ],
      "source": [
        "model = Sequential()\n",
        "model.add(Conv2D(10, input_shape=(39,39,3),\n",
        "                 kernel_size = (3,3),\n",
        "                 padding='valid',))\n",
        "model.add(Conv2D(20, (5,5), (2,2), padding='valid' ))\n",
        "model.add(Conv2D(40, (5,5), (2,2),padding='valid'))\n",
        "\n",
        "model.compile(loss = 'categorical_crossentropy', optimizer='adam')\n",
        "\n",
        "model.summary()"
      ]
    },
    {
      "cell_type": "code",
      "execution_count": null,
      "metadata": {
        "id": "buQYpSoSXiE8"
      },
      "outputs": [],
      "source": []
    }
  ],
  "metadata": {
    "colab": {
      "provenance": []
    },
    "kernelspec": {
      "display_name": "Python 3",
      "name": "python3"
    },
    "language_info": {
      "name": "python"
    }
  },
  "nbformat": 4,
  "nbformat_minor": 0
}